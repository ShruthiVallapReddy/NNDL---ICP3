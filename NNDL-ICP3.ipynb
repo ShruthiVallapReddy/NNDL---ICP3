{
 "cells": [
  {
   "cell_type": "code",
   "execution_count": 2,
   "id": "0e67df20",
   "metadata": {},
   "outputs": [
    {
     "name": "stdout",
     "output_type": "stream",
     "text": [
      "Few benefits as full time employee.\n",
      "Average salary of all employees : 1257550.0\n",
      "No of Employees 4\n"
     ]
    }
   ],
   "source": [
    "class Employee:\n",
    "    # data member to count the number of Employees\n",
    "    no_of_employees = 0\n",
    "\n",
    "    def __init__(my, name, family_name, salary, department):\n",
    "        my.__name = name\n",
    "        my.__family_name = family_name\n",
    "        my.salary = salary\n",
    "        my.__department = department\n",
    "        Employee.no_of_employees += 1\n",
    "    @staticmethod\n",
    "    def average_salary(employees):#function to average salary\n",
    "        sum = 0\n",
    "        for employee in employees:\n",
    "            sum += employee.salary\n",
    "        return sum / Employee.no_of_employees\n",
    "class FulltimeEmployee(Employee): \n",
    "    \"\"\"\n",
    "    \n",
    "    \"\"\"\n",
    "\n",
    "    def __init__(my, name, family_name, salary, department):\n",
    "        super().__init__(my, family_name, salary, department)\n",
    "\n",
    "    def full_time_benefits(my):\n",
    "        print(\"Few benefits as full time employee.\")\n",
    "\n",
    "\n",
    "def main():\n",
    "    employees = []\n",
    "    fte1 = FulltimeEmployee(\"shruthi\", \"Vallap Reddy\", 5000000, \"Principal\")\n",
    "    fte1.full_time_benefits()\n",
    "    employees.append(fte1)\n",
    "    fte2 = FulltimeEmployee(\"Suvidha\", \"Manda\", 20000, \"Vice Principal\")\n",
    "    employees.append(fte2)\n",
    "    emp1 = Employee(\"Ruchitha\", \"Babburi\", 200, \"Peon\")\n",
    "    employees.append(emp1)\n",
    "    emp2 = Employee(\"Sindhu\", \"Maryadha\", 10000, \"Professor\")\n",
    "    employees.append(emp2)\n",
    "    print(\"Average salary of all employees :\", FulltimeEmployee.average_salary(employees))\n",
    "    print(\"No of Employees\",Employee.no_of_employees)\n",
    "\n",
    "\n",
    "if __name__ == \"__main__\":\n",
    "    main()"
   ]
  },
  {
   "cell_type": "code",
   "execution_count": 35,
   "id": "4bf5b183",
   "metadata": {},
   "outputs": [
    {
     "name": "stdout",
     "output_type": "stream",
     "text": [
      "vector before reshape [[14.30622329 14.56278983  3.24618323 10.95782106  5.29252048]\n",
      " [14.32370996 10.21424029 10.94965577 13.18038448  1.8342874 ]\n",
      " [ 6.6942082   4.53055474  4.51416789  9.92225887 15.31969573]\n",
      " [18.39372588 14.59072553 17.23559422 18.36180044  7.07314153]]\n",
      "vector after reshape [[14.30622329 14.56278983  3.24618323 10.95782106]\n",
      " [ 5.29252048 14.32370996 10.21424029 10.94965577]\n",
      " [13.18038448  1.8342874   6.6942082   4.53055474]\n",
      " [ 4.51416789  9.92225887 15.31969573 18.39372588]\n",
      " [14.59072553 17.23559422 18.36180044  7.07314153]]\n",
      "replaced maximum value in each row with 0 [[14.30622329  0.          3.24618323 10.95782106]\n",
      " [ 5.29252048  0.         10.21424029 10.94965577]\n",
      " [ 0.          1.8342874   6.6942082   4.53055474]\n",
      " [ 4.51416789  9.92225887 15.31969573  0.        ]\n",
      " [14.59072553 17.23559422  0.          7.07314153]]\n"
     ]
    }
   ],
   "source": [
    "import numpy as np\n",
    "\n",
    "# Generate a random vector of size 20 with float numbers between 1 and 20\n",
    "random_vector = np.random.uniform(1,20,(4,5))\n",
    "print(\"vector before reshape\",random_vector)\n",
    "\n",
    "# Reshape the vector to  4 by 5\n",
    "max_index = random_vector.reshape(5,4)\n",
    "print(\"vector after reshape\",max_index)\n",
    "\n",
    "# Replace the maximum value in each row with 0\n",
    "max_index[np.arange(5), max_index.argmax(axis=1)] = 0\n",
    "\n",
    "print(\"replaced maximum value in each row with 0\",max_index)"
   ]
  },
  {
   "cell_type": "code",
   "execution_count": null,
   "id": "3dcbd3e2",
   "metadata": {},
   "outputs": [],
   "source": []
  },
  {
   "cell_type": "code",
   "execution_count": null,
   "id": "84e93792",
   "metadata": {},
   "outputs": [],
   "source": []
  },
  {
   "cell_type": "code",
   "execution_count": 9,
   "id": "020102e5",
   "metadata": {},
   "outputs": [],
   "source": []
  },
  {
   "cell_type": "code",
   "execution_count": null,
   "id": "a247d3e6",
   "metadata": {},
   "outputs": [],
   "source": []
  },
  {
   "cell_type": "code",
   "execution_count": null,
   "id": "fcccc01c",
   "metadata": {},
   "outputs": [],
   "source": []
  }
 ],
 "metadata": {
  "kernelspec": {
   "display_name": "Python 3 (ipykernel)",
   "language": "python",
   "name": "python3"
  },
  "language_info": {
   "codemirror_mode": {
    "name": "ipython",
    "version": 3
   },
   "file_extension": ".py",
   "mimetype": "text/x-python",
   "name": "python",
   "nbconvert_exporter": "python",
   "pygments_lexer": "ipython3",
   "version": "3.11.1"
  }
 },
 "nbformat": 4,
 "nbformat_minor": 5
}
